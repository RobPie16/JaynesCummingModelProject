{
 "cells": [
  {
   "cell_type": "code",
   "execution_count": 1,
   "metadata": {},
   "outputs": [],
   "source": [
    "# setup the matplotlib graphics library and configure it to show \n",
    "# figures inline in the notebook\n",
    "%matplotlib inline\n",
    "import matplotlib.pyplot as plt\n",
    "import numpy as np\n",
    "from numpy import linalg\n",
    "from array import array\n",
    "import matplotlib as mpl\n",
    "\n",
    "mpl.rcParams.update({'font.size': 16})"
   ]
  },
  {
   "cell_type": "code",
   "execution_count": 2,
   "metadata": {},
   "outputs": [],
   "source": [
    "# make qutip available in the rest of the notebook\n",
    "from qutip import *"
   ]
  },
  {
   "cell_type": "code",
   "execution_count": 3,
   "metadata": {},
   "outputs": [],
   "source": [
    "wc = 1.0  * 2 * np.pi  # cavity frequency\n",
    "wa = 1.0  * 2 * np.pi  # atom frequency\n",
    "g  = 0.05 * 2 * np.pi  # coupling strength\n",
    "kappa = 0.005       # cavity dissipation rate\n",
    "gamma = 0.05        # atom dissipation rate\n",
    "N = 2              # number of cavity fock states\n",
    "n_th_a = 0.0        # avg number of thermal bath excitation\n",
    "\n",
    "tlist = np.linspace(0,25,101)"
   ]
  },
  {
   "cell_type": "code",
   "execution_count": 4,
   "metadata": {},
   "outputs": [],
   "source": [
    "# intial state\n",
    "psi0 = tensor(basis(N,0), basis(2,1))    # start with an excited atom\n",
    "\n",
    "# operators\n",
    "a  = tensor(destroy(N), qeye(2))\n",
    "sm = tensor(qeye(N), destroy(2))\n",
    "\n",
    "# Hamiltonian\n",
    "\n",
    "Hrwa = wc * a.dag() * a + wa * sm.dag() * sm + g * (a.dag() * sm + a * sm.dag())\n",
    "\n",
    "Horig = wc * a.dag() * a + wa * sm.dag() * sm + g * (a.dag() + a) * (sm + sm.dag())"
   ]
  },
  {
   "cell_type": "code",
   "execution_count": 5,
   "metadata": {},
   "outputs": [
    {
     "data": {
      "text/latex": [
       "Quantum object: dims = [[2, 2], [2, 2]], shape = (4, 4), type = oper, isherm = True\\begin{equation*}\\left(\\begin{array}{*{11}c}0.0 & 0.0 & 0.0 & 0.0\\\\0.0 & 6.283 & 0.314 & 0.0\\\\0.0 & 0.314 & 6.283 & 0.0\\\\0.0 & 0.0 & 0.0 & 12.566\\\\\\end{array}\\right)\\end{equation*}"
      ],
      "text/plain": [
       "Quantum object: dims = [[2, 2], [2, 2]], shape = (4, 4), type = oper, isherm = True\n",
       "Qobj data =\n",
       "[[ 0.          0.          0.          0.        ]\n",
       " [ 0.          6.28318531  0.31415927  0.        ]\n",
       " [ 0.          0.31415927  6.28318531  0.        ]\n",
       " [ 0.          0.          0.         12.56637061]]"
      ]
     },
     "execution_count": 5,
     "metadata": {},
     "output_type": "execute_result"
    }
   ],
   "source": [
    "Hrwa"
   ]
  },
  {
   "cell_type": "code",
   "execution_count": 6,
   "metadata": {},
   "outputs": [
    {
     "data": {
      "text/latex": [
       "Quantum object: dims = [[2, 2], [2, 2]], shape = (4, 4), type = oper, isherm = True\\begin{equation*}\\left(\\begin{array}{*{11}c}0.0 & 0.0 & 0.0 & 0.314\\\\0.0 & 6.283 & 0.314 & 0.0\\\\0.0 & 0.314 & 6.283 & 0.0\\\\0.314 & 0.0 & 0.0 & 12.566\\\\\\end{array}\\right)\\end{equation*}"
      ],
      "text/plain": [
       "Quantum object: dims = [[2, 2], [2, 2]], shape = (4, 4), type = oper, isherm = True\n",
       "Qobj data =\n",
       "[[ 0.          0.          0.          0.31415927]\n",
       " [ 0.          6.28318531  0.31415927  0.        ]\n",
       " [ 0.          0.31415927  6.28318531  0.        ]\n",
       " [ 0.31415927  0.          0.         12.56637061]]"
      ]
     },
     "execution_count": 6,
     "metadata": {},
     "output_type": "execute_result"
    }
   ],
   "source": [
    "Horig"
   ]
  },
  {
   "cell_type": "code",
   "execution_count": 10,
   "metadata": {},
   "outputs": [
    {
     "data": {
      "text/plain": [
       "array([[ 0.        +0.j,  0.        +0.j,  0.        +0.j,\n",
       "         0.31415927+0.j],\n",
       "       [ 0.        +0.j,  6.28318531+0.j,  0.31415927+0.j,\n",
       "         0.        +0.j],\n",
       "       [ 0.        +0.j,  0.31415927+0.j,  6.28318531+0.j,\n",
       "         0.        +0.j],\n",
       "       [ 0.31415927+0.j,  0.        +0.j,  0.        +0.j,\n",
       "        12.56637061+0.j]])"
      ]
     },
     "execution_count": 10,
     "metadata": {},
     "output_type": "execute_result"
    }
   ],
   "source": [
    "A=Horig.full()\n",
    "A"
   ]
  },
  {
   "cell_type": "code",
   "execution_count": 11,
   "metadata": {},
   "outputs": [
    {
     "name": "stdout",
     "output_type": "stream",
     "text": [
      "[-7.84907902e-03  5.96902604e+00  6.59734457e+00  1.25742197e+01]\n",
      "\n",
      "[[-0.99968804-0.j -0.        -0.j  0.        +0.j -0.0249766 +0.j]\n",
      " [ 0.        +0.j  0.70710678+0.j -0.70710678+0.j  0.        +0.j]\n",
      " [ 0.        +0.j -0.70710678+0.j -0.70710678+0.j  0.        +0.j]\n",
      " [ 0.0249766 +0.j  0.        +0.j  0.        +0.j -0.99968804+0.j]]\n"
     ]
    }
   ],
   "source": [
    "x,V=linalg.eigh(A)\n",
    "print(x)\n",
    "print()\n",
    "print(V)"
   ]
  },
  {
   "cell_type": "code",
   "execution_count": 12,
   "metadata": {
    "scrolled": true
   },
   "outputs": [
    {
     "data": {
      "text/plain": [
       "(array([-7.84907902e-03,  5.96902604e+00,  6.59734457e+00,  1.25742197e+01]),\n",
       " array([Quantum object: dims = [[2, 2], [1, 1]], shape = (4, 1), type = ket\n",
       " Qobj data =\n",
       " [[ 0.99968804]\n",
       "  [ 0.        ]\n",
       "  [ 0.        ]\n",
       "  [-0.0249766 ]],\n",
       "        Quantum object: dims = [[2, 2], [1, 1]], shape = (4, 1), type = ket\n",
       " Qobj data =\n",
       " [[ 0.        ]\n",
       "  [-0.70710678]\n",
       "  [ 0.70710678]\n",
       "  [ 0.        ]],\n",
       "        Quantum object: dims = [[2, 2], [1, 1]], shape = (4, 1), type = ket\n",
       " Qobj data =\n",
       " [[ 0.        ]\n",
       "  [-0.70710678]\n",
       "  [-0.70710678]\n",
       "  [ 0.        ]],\n",
       "        Quantum object: dims = [[2, 2], [1, 1]], shape = (4, 1), type = ket\n",
       " Qobj data =\n",
       " [[-0.0249766 ]\n",
       "  [ 0.        ]\n",
       "  [ 0.        ]\n",
       "  [-0.99968804]]], dtype=object))"
      ]
     },
     "execution_count": 12,
     "metadata": {},
     "output_type": "execute_result"
    }
   ],
   "source": [
    "Horig.eigenstates()"
   ]
  },
  {
   "cell_type": "code",
   "execution_count": 13,
   "metadata": {
    "scrolled": true
   },
   "outputs": [
    {
     "data": {
      "text/latex": [
       "Quantum object: dims = [[2, 2], [1, 1]], shape = (4, 1), type = ket\\begin{equation*}\\left(\\begin{array}{*{11}c}0.0\\\\1.0\\\\0.0\\\\0.0\\\\\\end{array}\\right)\\end{equation*}"
      ],
      "text/plain": [
       "Quantum object: dims = [[2, 2], [1, 1]], shape = (4, 1), type = ket\n",
       "Qobj data =\n",
       "[[0.]\n",
       " [1.]\n",
       " [0.]\n",
       " [0.]]"
      ]
     },
     "execution_count": 13,
     "metadata": {},
     "output_type": "execute_result"
    }
   ],
   "source": [
    "psi0"
   ]
  },
  {
   "cell_type": "code",
   "execution_count": 15,
   "metadata": {},
   "outputs": [],
   "source": [
    "#I have written this code to evolve for given eigenvalues and eigenvectors\n",
    "#I could easily modify it so that I could just give it H and it calcs them in the function\n",
    "\n",
    "def evolve(psi,t,E,V):\n",
    "    \n",
    "    \n",
    "    \n",
    "    #insert code here to do for H instead...\n",
    "    \n",
    "    \n",
    "    \n",
    "    \n",
    "    \n",
    "    \n",
    "    h=1#to simplify things\n",
    "    \n",
    "    #I am going to write this so psi is NOT a Qobj\n",
    "    #psi has to be of the form [[],[],...]\n",
    "    psit=0\n",
    "    \n",
    "    for i in range(len(V)):\n",
    "        v=np.array([V[i]])\n",
    "        v=v.T\n",
    "        \n",
    "        #print(psi)\n",
    "        #print(v)\n",
    "        \n",
    "        #cn=np.dot(psi,v)\n",
    "        cn=sum(psi*v) #the dot product should work but it doesnt for some reason....\n",
    "        en=E[i]\n",
    "        \n",
    "        psit+=cn*np.exp(1j*t*en/h)*v\n",
    "        \n",
    "    return psit\n",
    "        \n",
    "    "
   ]
  },
  {
   "cell_type": "code",
   "execution_count": 16,
   "metadata": {
    "scrolled": true
   },
   "outputs": [
    {
     "data": {
      "text/plain": [
       "array([[0],\n",
       "       [0],\n",
       "       [1],\n",
       "       [0]])"
      ]
     },
     "execution_count": 16,
     "metadata": {},
     "output_type": "execute_result"
    }
   ],
   "source": [
    "psi0=np.array([[0],[0],[1],[0]]) #need a way to define initial state in terms of n\n",
    "psi0"
   ]
  },
  {
   "cell_type": "code",
   "execution_count": 17,
   "metadata": {},
   "outputs": [
    {
     "data": {
      "text/plain": [
       "array([[0.        -0.00000000e+00j],\n",
       "       [0.        -3.09016994e-01j],\n",
       "       [0.95105652+2.22044605e-16j],\n",
       "       [0.        -0.00000000e+00j]])"
      ]
     },
     "execution_count": 17,
     "metadata": {},
     "output_type": "execute_result"
    }
   ],
   "source": [
    "np.conj(evolve(psi0,1,x,V))\n",
    "#evolve(psi0,1,x,V)"
   ]
  },
  {
   "cell_type": "markdown",
   "metadata": {},
   "source": [
    "Ok, so now that we can time evolve stuff, Rabi oscillations are given by expectation values of a.dag() * a and sm.dag() * sm, so need to get those not as Qobj too. I think that is just given by (a.dag() * a).full()"
   ]
  },
  {
   "cell_type": "code",
   "execution_count": 18,
   "metadata": {},
   "outputs": [],
   "source": [
    "A1=(a.dag()*a).full()\n",
    "A2=(sm.dag()*sm).full()"
   ]
  },
  {
   "cell_type": "markdown",
   "metadata": {},
   "source": [
    "now, expectation values calculated as normal with vectors"
   ]
  },
  {
   "cell_type": "code",
   "execution_count": 19,
   "metadata": {},
   "outputs": [],
   "source": [
    "A1v=[]\n",
    "A2v=[]\n",
    "\n",
    "\n",
    "psi0=np.array([[0],[0],[1],[0]])\n",
    "x,V=linalg.eigh(Horig.full())\n",
    "\n",
    "\n",
    "tlist = np.linspace(0,25,101)\n",
    "\n",
    "\n",
    "\n",
    "for t in tlist:\n",
    "    psi=evolve(psi0,t,x,V)\n",
    "    psiT=np.conj(psi).T\n",
    "    \n",
    "    xA1 = np.dot(psiT,np.dot(A1,psi))\n",
    "    xA2 = np.dot(psiT,np.dot(A2,psi))\n",
    "    \n",
    "    A1v.append(xA1[0])\n",
    "    A2v.append(xA2[0])"
   ]
  },
  {
   "cell_type": "code",
   "execution_count": null,
   "metadata": {},
   "outputs": [],
   "source": []
  },
  {
   "cell_type": "code",
   "execution_count": 23,
   "metadata": {},
   "outputs": [],
   "source": [
    "#A1v"
   ]
  },
  {
   "cell_type": "code",
   "execution_count": 22,
   "metadata": {},
   "outputs": [
    {
     "name": "stderr",
     "output_type": "stream",
     "text": [
      "/Users/tristanaft/opt/anaconda3/lib/python3.8/site-packages/numpy/core/_asarray.py:83: ComplexWarning: Casting complex values to real discards the imaginary part\n",
      "  return array(a, dtype, copy=False, order=order)\n",
      "/Users/tristanaft/opt/anaconda3/lib/python3.8/site-packages/numpy/core/_asarray.py:83: ComplexWarning: Casting complex values to real discards the imaginary part\n",
      "  return array(a, dtype, copy=False, order=order)\n"
     ]
    },
    {
     "data": {
      "text/plain": [
       "Text(0.5, 1.0, 'Vacuum Rabi oscillations')"
      ]
     },
     "execution_count": 22,
     "metadata": {},
     "output_type": "execute_result"
    },
    {
     "data": {
      "image/png": "[encoded data removed]",
      "text/plain": [
       "<Figure size 720x432 with 1 Axes>"
      ]
     },
     "metadata": {
      "needs_background": "light"
     },
     "output_type": "display_data"
    }
   ],
   "source": [
    "fig, axes = plt.subplots(1, 1, figsize=(10,6))\n",
    "\n",
    "axes.plot(tlist, A1v, label=\"Cavity\")\n",
    "axes.plot(tlist, A2v, label=\"Atom excited state\")\n",
    "axes.legend()\n",
    "axes.set_xlabel('Time')\n",
    "axes.set_ylabel('Occupation probability')\n",
    "axes.set_title('Vacuum Rabi oscillations')"
   ]
  },
  {
   "cell_type": "code",
   "execution_count": null,
   "metadata": {},
   "outputs": [],
   "source": []
  }
 ],
 "metadata": {
  "kernelspec": {
   "display_name": "Python 3",
   "language": "python",
   "name": "python3"
  },
  "language_info": {
   "codemirror_mode": {
    "name": "ipython",
    "version": 3
   },
   "file_extension": ".py",
   "mimetype": "text/x-python",
   "name": "python",
   "nbconvert_exporter": "python",
   "pygments_lexer": "ipython3",
   "version": "3.8.5"
  }
 },
 "nbformat": 4,
 "nbformat_minor": 4
}
