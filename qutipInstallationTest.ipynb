{
 "cells": [
  {
   "cell_type": "markdown",
   "id": "english-theme",
   "metadata": {},
   "source": [
    "## QuTiP installation\n",
    "Follow the installation guide at: http://qutip.org/docs/latest/installation.html#\n",
    "You may have to first add the conda-forge channel as explained in the guide.\n",
    "Also, you will have to install teh required packages\n",
    "\n",
    "### To check if you have QuTiP installed correctly, run the following code block.\n",
    "It takes a bit of time, you should not recieve any errors."
   ]
  },
  {
   "cell_type": "code",
   "execution_count": null,
   "id": "personal-pipeline",
   "metadata": {},
   "outputs": [],
   "source": [
    "import qutip.testing as qt\n",
    "qt.run()"
   ]
  }
 ],
 "metadata": {
  "kernelspec": {
   "display_name": "Python 3",
   "language": "python",
   "name": "python3"
  },
  "language_info": {
   "codemirror_mode": {
    "name": "ipython",
    "version": 3
   },
   "file_extension": ".py",
   "mimetype": "text/x-python",
   "name": "python",
   "nbconvert_exporter": "python",
   "pygments_lexer": "ipython3",
   "version": "3.8.5"
  }
 },
 "nbformat": 4,
 "nbformat_minor": 5
}
